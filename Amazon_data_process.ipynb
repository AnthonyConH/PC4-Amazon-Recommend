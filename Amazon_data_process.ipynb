{
  "cells": [
    {
      "cell_type": "code",
      "execution_count": null,
      "metadata": {
        "colab": {
          "base_uri": "https://localhost:8080/"
        },
        "id": "p-DwSjbtziQ9",
        "outputId": "d78e7cd3-9456-4fe3-8e7a-7702de4fc470"
      },
      "outputs": [
        {
          "name": "stdout",
          "output_type": "stream",
          "text": [
            "Archivos descomprimidos en: .\n"
          ]
        }
      ],
      "source": [
        "import zipfile\n",
        "import os\n",
        "\n",
        "def descomprimir_zip(ruta_zip, ruta_destino):\n",
        "    with zipfile.ZipFile(ruta_zip, 'r') as archivo_zip:\n",
        "        archivo_zip.extractall(ruta_destino)\n",
        "    print(f\"Archivos descomprimidos en: {ruta_destino}\")\n",
        "\n",
        "# Ejemplo de uso\n",
        "ruta_zip = 'archive.zip'  # Cambia 'archivo.zip' por la ruta de tu archivo ZIP\n",
        "ruta_destino = '.'  # Cambia 'carpeta_destino' por la ruta donde quieres descomprimir\n",
        "descomprimir_zip(ruta_zip, ruta_destino)\n"
      ]
    },
    {
      "cell_type": "code",
      "execution_count": null,
      "metadata": {
        "id": "KhRVX5hM4L1E"
      },
      "outputs": [],
      "source": [
        "import pandas as pd\n",
        "\n",
        "# Rutas de los archivos CSV\n",
        "ruta_train = 'train.csv'  # Cambia por la ruta de tu archivo de entrenamiento\n",
        "ruta_val = 'validation.csv'      # Cambia por la ruta de tu archivo de validación\n",
        "ruta_test = 'test.csv'    # Cambia por la ruta de tu archivo de prueba\n",
        "\n",
        "# Leer los archivos CSV en DataFrames\n",
        "df_train = pd.read_csv(ruta_train, index_col=0)\n",
        "df_val = pd.read_csv(ruta_val, index_col=0)\n",
        "df_test = pd.read_csv(ruta_test, index_col=0)"
      ]
    },
    {
      "cell_type": "code",
      "execution_count": null,
      "metadata": {
        "colab": {
          "base_uri": "https://localhost:8080/",
          "height": 206
        },
        "id": "NmfUyx7w404l",
        "outputId": "9b059f10-569f-4677-d94a-0f707a7767f1"
      },
      "outputs": [
        {
          "data": {
            "application/vnd.google.colaboratory.intrinsic+json": {
              "type": "dataframe",
              "variable_name": "df_train"
            },
            "text/html": [
              "\n",
              "  <div id=\"df-88d00ad3-d941-4895-b884-f8b6b88ec27a\" class=\"colab-df-container\">\n",
              "    <div>\n",
              "<style scoped>\n",
              "    .dataframe tbody tr th:only-of-type {\n",
              "        vertical-align: middle;\n",
              "    }\n",
              "\n",
              "    .dataframe tbody tr th {\n",
              "        vertical-align: top;\n",
              "    }\n",
              "\n",
              "    .dataframe thead th {\n",
              "        text-align: right;\n",
              "    }\n",
              "</style>\n",
              "<table border=\"1\" class=\"dataframe\">\n",
              "  <thead>\n",
              "    <tr style=\"text-align: right;\">\n",
              "      <th></th>\n",
              "      <th>review_id</th>\n",
              "      <th>product_id</th>\n",
              "      <th>reviewer_id</th>\n",
              "      <th>stars</th>\n",
              "      <th>review_body</th>\n",
              "      <th>review_title</th>\n",
              "      <th>language</th>\n",
              "      <th>product_category</th>\n",
              "    </tr>\n",
              "  </thead>\n",
              "  <tbody>\n",
              "    <tr>\n",
              "      <th>0</th>\n",
              "      <td>de_0203609</td>\n",
              "      <td>product_de_0865382</td>\n",
              "      <td>reviewer_de_0267719</td>\n",
              "      <td>1</td>\n",
              "      <td>Armband ist leider nach 1 Jahr kaputt gegangen</td>\n",
              "      <td>Leider nach 1 Jahr kaputt</td>\n",
              "      <td>de</td>\n",
              "      <td>sports</td>\n",
              "    </tr>\n",
              "    <tr>\n",
              "      <th>1</th>\n",
              "      <td>de_0559494</td>\n",
              "      <td>product_de_0678997</td>\n",
              "      <td>reviewer_de_0783625</td>\n",
              "      <td>1</td>\n",
              "      <td>In der Lieferung war nur Ein Akku!</td>\n",
              "      <td>EINS statt ZWEI Akkus!!!</td>\n",
              "      <td>de</td>\n",
              "      <td>home_improvement</td>\n",
              "    </tr>\n",
              "    <tr>\n",
              "      <th>2</th>\n",
              "      <td>de_0238777</td>\n",
              "      <td>product_de_0372235</td>\n",
              "      <td>reviewer_de_0911426</td>\n",
              "      <td>1</td>\n",
              "      <td>Ein Stern, weil gar keine geht nicht. Es hande...</td>\n",
              "      <td>Achtung Abzocke</td>\n",
              "      <td>de</td>\n",
              "      <td>drugstore</td>\n",
              "    </tr>\n",
              "    <tr>\n",
              "      <th>3</th>\n",
              "      <td>de_0477884</td>\n",
              "      <td>product_de_0719501</td>\n",
              "      <td>reviewer_de_0836478</td>\n",
              "      <td>1</td>\n",
              "      <td>Dachte, das wären einfach etwas festere Binden...</td>\n",
              "      <td>Zu viel des Guten</td>\n",
              "      <td>de</td>\n",
              "      <td>drugstore</td>\n",
              "    </tr>\n",
              "    <tr>\n",
              "      <th>4</th>\n",
              "      <td>de_0270868</td>\n",
              "      <td>product_de_0022613</td>\n",
              "      <td>reviewer_de_0736276</td>\n",
              "      <td>1</td>\n",
              "      <td>Meine Kinder haben kaum damit gespielt und nac...</td>\n",
              "      <td>Qualität sehr schlecht</td>\n",
              "      <td>de</td>\n",
              "      <td>toy</td>\n",
              "    </tr>\n",
              "  </tbody>\n",
              "</table>\n",
              "</div>\n",
              "    <div class=\"colab-df-buttons\">\n",
              "\n",
              "  <div class=\"colab-df-container\">\n",
              "    <button class=\"colab-df-convert\" onclick=\"convertToInteractive('df-88d00ad3-d941-4895-b884-f8b6b88ec27a')\"\n",
              "            title=\"Convert this dataframe to an interactive table.\"\n",
              "            style=\"display:none;\">\n",
              "\n",
              "  <svg xmlns=\"http://www.w3.org/2000/svg\" height=\"24px\" viewBox=\"0 -960 960 960\">\n",
              "    <path d=\"M120-120v-720h720v720H120Zm60-500h600v-160H180v160Zm220 220h160v-160H400v160Zm0 220h160v-160H400v160ZM180-400h160v-160H180v160Zm440 0h160v-160H620v160ZM180-180h160v-160H180v160Zm440 0h160v-160H620v160Z\"/>\n",
              "  </svg>\n",
              "    </button>\n",
              "\n",
              "  <style>\n",
              "    .colab-df-container {\n",
              "      display:flex;\n",
              "      gap: 12px;\n",
              "    }\n",
              "\n",
              "    .colab-df-convert {\n",
              "      background-color: #E8F0FE;\n",
              "      border: none;\n",
              "      border-radius: 50%;\n",
              "      cursor: pointer;\n",
              "      display: none;\n",
              "      fill: #1967D2;\n",
              "      height: 32px;\n",
              "      padding: 0 0 0 0;\n",
              "      width: 32px;\n",
              "    }\n",
              "\n",
              "    .colab-df-convert:hover {\n",
              "      background-color: #E2EBFA;\n",
              "      box-shadow: 0px 1px 2px rgba(60, 64, 67, 0.3), 0px 1px 3px 1px rgba(60, 64, 67, 0.15);\n",
              "      fill: #174EA6;\n",
              "    }\n",
              "\n",
              "    .colab-df-buttons div {\n",
              "      margin-bottom: 4px;\n",
              "    }\n",
              "\n",
              "    [theme=dark] .colab-df-convert {\n",
              "      background-color: #3B4455;\n",
              "      fill: #D2E3FC;\n",
              "    }\n",
              "\n",
              "    [theme=dark] .colab-df-convert:hover {\n",
              "      background-color: #434B5C;\n",
              "      box-shadow: 0px 1px 3px 1px rgba(0, 0, 0, 0.15);\n",
              "      filter: drop-shadow(0px 1px 2px rgba(0, 0, 0, 0.3));\n",
              "      fill: #FFFFFF;\n",
              "    }\n",
              "  </style>\n",
              "\n",
              "    <script>\n",
              "      const buttonEl =\n",
              "        document.querySelector('#df-88d00ad3-d941-4895-b884-f8b6b88ec27a button.colab-df-convert');\n",
              "      buttonEl.style.display =\n",
              "        google.colab.kernel.accessAllowed ? 'block' : 'none';\n",
              "\n",
              "      async function convertToInteractive(key) {\n",
              "        const element = document.querySelector('#df-88d00ad3-d941-4895-b884-f8b6b88ec27a');\n",
              "        const dataTable =\n",
              "          await google.colab.kernel.invokeFunction('convertToInteractive',\n",
              "                                                    [key], {});\n",
              "        if (!dataTable) return;\n",
              "\n",
              "        const docLinkHtml = 'Like what you see? Visit the ' +\n",
              "          '<a target=\"_blank\" href=https://colab.research.google.com/notebooks/data_table.ipynb>data table notebook</a>'\n",
              "          + ' to learn more about interactive tables.';\n",
              "        element.innerHTML = '';\n",
              "        dataTable['output_type'] = 'display_data';\n",
              "        await google.colab.output.renderOutput(dataTable, element);\n",
              "        const docLink = document.createElement('div');\n",
              "        docLink.innerHTML = docLinkHtml;\n",
              "        element.appendChild(docLink);\n",
              "      }\n",
              "    </script>\n",
              "  </div>\n",
              "\n",
              "\n",
              "<div id=\"df-112846ce-470e-4660-8cc0-59afa2cca361\">\n",
              "  <button class=\"colab-df-quickchart\" onclick=\"quickchart('df-112846ce-470e-4660-8cc0-59afa2cca361')\"\n",
              "            title=\"Suggest charts\"\n",
              "            style=\"display:none;\">\n",
              "\n",
              "<svg xmlns=\"http://www.w3.org/2000/svg\" height=\"24px\"viewBox=\"0 0 24 24\"\n",
              "     width=\"24px\">\n",
              "    <g>\n",
              "        <path d=\"M19 3H5c-1.1 0-2 .9-2 2v14c0 1.1.9 2 2 2h14c1.1 0 2-.9 2-2V5c0-1.1-.9-2-2-2zM9 17H7v-7h2v7zm4 0h-2V7h2v10zm4 0h-2v-4h2v4z\"/>\n",
              "    </g>\n",
              "</svg>\n",
              "  </button>\n",
              "\n",
              "<style>\n",
              "  .colab-df-quickchart {\n",
              "      --bg-color: #E8F0FE;\n",
              "      --fill-color: #1967D2;\n",
              "      --hover-bg-color: #E2EBFA;\n",
              "      --hover-fill-color: #174EA6;\n",
              "      --disabled-fill-color: #AAA;\n",
              "      --disabled-bg-color: #DDD;\n",
              "  }\n",
              "\n",
              "  [theme=dark] .colab-df-quickchart {\n",
              "      --bg-color: #3B4455;\n",
              "      --fill-color: #D2E3FC;\n",
              "      --hover-bg-color: #434B5C;\n",
              "      --hover-fill-color: #FFFFFF;\n",
              "      --disabled-bg-color: #3B4455;\n",
              "      --disabled-fill-color: #666;\n",
              "  }\n",
              "\n",
              "  .colab-df-quickchart {\n",
              "    background-color: var(--bg-color);\n",
              "    border: none;\n",
              "    border-radius: 50%;\n",
              "    cursor: pointer;\n",
              "    display: none;\n",
              "    fill: var(--fill-color);\n",
              "    height: 32px;\n",
              "    padding: 0;\n",
              "    width: 32px;\n",
              "  }\n",
              "\n",
              "  .colab-df-quickchart:hover {\n",
              "    background-color: var(--hover-bg-color);\n",
              "    box-shadow: 0 1px 2px rgba(60, 64, 67, 0.3), 0 1px 3px 1px rgba(60, 64, 67, 0.15);\n",
              "    fill: var(--button-hover-fill-color);\n",
              "  }\n",
              "\n",
              "  .colab-df-quickchart-complete:disabled,\n",
              "  .colab-df-quickchart-complete:disabled:hover {\n",
              "    background-color: var(--disabled-bg-color);\n",
              "    fill: var(--disabled-fill-color);\n",
              "    box-shadow: none;\n",
              "  }\n",
              "\n",
              "  .colab-df-spinner {\n",
              "    border: 2px solid var(--fill-color);\n",
              "    border-color: transparent;\n",
              "    border-bottom-color: var(--fill-color);\n",
              "    animation:\n",
              "      spin 1s steps(1) infinite;\n",
              "  }\n",
              "\n",
              "  @keyframes spin {\n",
              "    0% {\n",
              "      border-color: transparent;\n",
              "      border-bottom-color: var(--fill-color);\n",
              "      border-left-color: var(--fill-color);\n",
              "    }\n",
              "    20% {\n",
              "      border-color: transparent;\n",
              "      border-left-color: var(--fill-color);\n",
              "      border-top-color: var(--fill-color);\n",
              "    }\n",
              "    30% {\n",
              "      border-color: transparent;\n",
              "      border-left-color: var(--fill-color);\n",
              "      border-top-color: var(--fill-color);\n",
              "      border-right-color: var(--fill-color);\n",
              "    }\n",
              "    40% {\n",
              "      border-color: transparent;\n",
              "      border-right-color: var(--fill-color);\n",
              "      border-top-color: var(--fill-color);\n",
              "    }\n",
              "    60% {\n",
              "      border-color: transparent;\n",
              "      border-right-color: var(--fill-color);\n",
              "    }\n",
              "    80% {\n",
              "      border-color: transparent;\n",
              "      border-right-color: var(--fill-color);\n",
              "      border-bottom-color: var(--fill-color);\n",
              "    }\n",
              "    90% {\n",
              "      border-color: transparent;\n",
              "      border-bottom-color: var(--fill-color);\n",
              "    }\n",
              "  }\n",
              "</style>\n",
              "\n",
              "  <script>\n",
              "    async function quickchart(key) {\n",
              "      const quickchartButtonEl =\n",
              "        document.querySelector('#' + key + ' button');\n",
              "      quickchartButtonEl.disabled = true;  // To prevent multiple clicks.\n",
              "      quickchartButtonEl.classList.add('colab-df-spinner');\n",
              "      try {\n",
              "        const charts = await google.colab.kernel.invokeFunction(\n",
              "            'suggestCharts', [key], {});\n",
              "      } catch (error) {\n",
              "        console.error('Error during call to suggestCharts:', error);\n",
              "      }\n",
              "      quickchartButtonEl.classList.remove('colab-df-spinner');\n",
              "      quickchartButtonEl.classList.add('colab-df-quickchart-complete');\n",
              "    }\n",
              "    (() => {\n",
              "      let quickchartButtonEl =\n",
              "        document.querySelector('#df-112846ce-470e-4660-8cc0-59afa2cca361 button');\n",
              "      quickchartButtonEl.style.display =\n",
              "        google.colab.kernel.accessAllowed ? 'block' : 'none';\n",
              "    })();\n",
              "  </script>\n",
              "</div>\n",
              "\n",
              "    </div>\n",
              "  </div>\n"
            ],
            "text/plain": [
              "    review_id          product_id          reviewer_id  stars  \\\n",
              "0  de_0203609  product_de_0865382  reviewer_de_0267719      1   \n",
              "1  de_0559494  product_de_0678997  reviewer_de_0783625      1   \n",
              "2  de_0238777  product_de_0372235  reviewer_de_0911426      1   \n",
              "3  de_0477884  product_de_0719501  reviewer_de_0836478      1   \n",
              "4  de_0270868  product_de_0022613  reviewer_de_0736276      1   \n",
              "\n",
              "                                         review_body  \\\n",
              "0     Armband ist leider nach 1 Jahr kaputt gegangen   \n",
              "1                 In der Lieferung war nur Ein Akku!   \n",
              "2  Ein Stern, weil gar keine geht nicht. Es hande...   \n",
              "3  Dachte, das wären einfach etwas festere Binden...   \n",
              "4  Meine Kinder haben kaum damit gespielt und nac...   \n",
              "\n",
              "                review_title language  product_category  \n",
              "0  Leider nach 1 Jahr kaputt       de            sports  \n",
              "1   EINS statt ZWEI Akkus!!!       de  home_improvement  \n",
              "2            Achtung Abzocke       de         drugstore  \n",
              "3          Zu viel des Guten       de         drugstore  \n",
              "4     Qualität sehr schlecht       de               toy  "
            ]
          },
          "execution_count": 9,
          "metadata": {},
          "output_type": "execute_result"
        }
      ],
      "source": [
        "df_train.head()"
      ]
    },
    {
      "cell_type": "code",
      "execution_count": null,
      "metadata": {
        "colab": {
          "base_uri": "https://localhost:8080/"
        },
        "id": "4EAOjj6I48Td",
        "outputId": "2cccf47c-fc0d-4348-a443-ed14fa48b4d7"
      },
      "outputs": [
        {
          "data": {
            "text/plain": [
              "Index(['Unnamed: 0', 'review_id', 'product_id', 'reviewer_id', 'stars',\n",
              "       'review_body', 'review_title', 'language', 'product_category'],\n",
              "      dtype='object')"
            ]
          },
          "execution_count": 6,
          "metadata": {},
          "output_type": "execute_result"
        }
      ],
      "source": [
        "df_train.columns"
      ]
    },
    {
      "cell_type": "code",
      "execution_count": null,
      "metadata": {
        "colab": {
          "base_uri": "https://localhost:8080/"
        },
        "id": "FcrmrI-m49rr",
        "outputId": "4665fe1b-7ccb-4381-cb0a-4f7787994628"
      },
      "outputs": [
        {
          "data": {
            "text/plain": [
              "(1200000, 9)"
            ]
          },
          "execution_count": 7,
          "metadata": {},
          "output_type": "execute_result"
        }
      ],
      "source": [
        "df_train.shape"
      ]
    },
    {
      "cell_type": "code",
      "execution_count": null,
      "metadata": {
        "colab": {
          "base_uri": "https://localhost:8080/"
        },
        "id": "0_JU-nUB5DkS",
        "outputId": "dbd897af-58cf-44c9-861d-265416b1df5b"
      },
      "outputs": [
        {
          "name": "stdout",
          "output_type": "stream",
          "text": [
            "<class 'pandas.core.frame.DataFrame'>\n",
            "Index: 1200000 entries, 0 to 1199999\n",
            "Data columns (total 8 columns):\n",
            " #   Column            Non-Null Count    Dtype \n",
            "---  ------            --------------    ----- \n",
            " 0   review_id         1200000 non-null  object\n",
            " 1   product_id        1200000 non-null  object\n",
            " 2   reviewer_id       1200000 non-null  object\n",
            " 3   stars             1200000 non-null  int64 \n",
            " 4   review_body       1200000 non-null  object\n",
            " 5   review_title      1199957 non-null  object\n",
            " 6   language          1200000 non-null  object\n",
            " 7   product_category  1200000 non-null  object\n",
            "dtypes: int64(1), object(7)\n",
            "memory usage: 82.4+ MB\n"
          ]
        }
      ],
      "source": [
        "df_train.info()"
      ]
    },
    {
      "cell_type": "markdown",
      "metadata": {
        "id": "whn9Y_g27Nry"
      },
      "source": [
        "*    Solo existen 3 datos nulos en review_title de los 1,200,000"
      ]
    },
    {
      "cell_type": "code",
      "execution_count": null,
      "metadata": {
        "colab": {
          "base_uri": "https://localhost:8080/"
        },
        "id": "w8kq2ab96l4h",
        "outputId": "26a35662-adf6-44bb-ffa5-a96b122416e7"
      },
      "outputs": [
        {
          "data": {
            "text/plain": [
              "(1200000,)"
            ]
          },
          "execution_count": 19,
          "metadata": {},
          "output_type": "execute_result"
        }
      ],
      "source": [
        "df_train['review_id'].unique().shape"
      ]
    },
    {
      "cell_type": "markdown",
      "metadata": {
        "id": "T561NgDP67wA"
      },
      "source": [
        "*    La cantidad de review_id únicos coincide con la cantidad de registros, lo que indica que no hay registros duplicados."
      ]
    },
    {
      "cell_type": "code",
      "execution_count": null,
      "metadata": {
        "colab": {
          "base_uri": "https://localhost:8080/"
        },
        "id": "une9Vu2e6hG6",
        "outputId": "18956f03-06ec-4235-e843-1b57fae06380"
      },
      "outputs": [
        {
          "data": {
            "text/plain": [
              "(963043,)"
            ]
          },
          "execution_count": 18,
          "metadata": {},
          "output_type": "execute_result"
        }
      ],
      "source": [
        "df_train['product_id'].unique().shape"
      ]
    },
    {
      "cell_type": "code",
      "execution_count": null,
      "metadata": {
        "colab": {
          "base_uri": "https://localhost:8080/"
        },
        "id": "h4f1BSZn82Gc",
        "outputId": "ea55c33f-8361-40e4-ab7f-5afd952ec06b"
      },
      "outputs": [
        {
          "name": "stdout",
          "output_type": "stream",
          "text": [
            "Top 5 productos con más registros:\n",
            "product_id\n",
            "product_zh_0003917    12\n",
            "product_zh_0305404    12\n",
            "product_zh_0266705    12\n",
            "product_zh_0126866    11\n",
            "product_zh_0824222    11\n",
            "Name: count, dtype: int64\n"
          ]
        }
      ],
      "source": [
        "# Obtener el top 10 de reviewers con más registros\n",
        "top_products = df_train['product_id'].value_counts().head(5)\n",
        "\n",
        "# Mostrar los resultados\n",
        "print(\"Top 5 productos con más registros:\")\n",
        "print(top_products)"
      ]
    },
    {
      "cell_type": "code",
      "execution_count": null,
      "metadata": {
        "colab": {
          "base_uri": "https://localhost:8080/"
        },
        "id": "vzERVZvZ7jbz",
        "outputId": "f00b0cc0-1095-4a31-973f-30b0713658a6"
      },
      "outputs": [
        {
          "data": {
            "text/plain": [
              "(1098290,)"
            ]
          },
          "execution_count": 20,
          "metadata": {},
          "output_type": "execute_result"
        }
      ],
      "source": [
        "df_train['reviewer_id'].unique().shape"
      ]
    },
    {
      "cell_type": "code",
      "execution_count": null,
      "metadata": {
        "colab": {
          "base_uri": "https://localhost:8080/"
        },
        "id": "OMI93yJW7t_e",
        "outputId": "c87504fc-cc50-41e8-ee8d-6e24d54ea8ff"
      },
      "outputs": [
        {
          "name": "stdout",
          "output_type": "stream",
          "text": [
            "Top 5 reviewers con más registros:\n",
            "reviewer_id\n",
            "reviewer_zh_0071620    16\n",
            "reviewer_zh_0140130    12\n",
            "reviewer_zh_0716686    12\n",
            "reviewer_zh_0612068    12\n",
            "reviewer_zh_0616740    12\n",
            "Name: count, dtype: int64\n"
          ]
        }
      ],
      "source": [
        "# Obtener el top 10 de reviewers con más registros\n",
        "top_reviewers = df_train['reviewer_id'].value_counts().head(5)\n",
        "\n",
        "# Mostrar los resultados\n",
        "print(\"Top 5 reviewers con más registros:\")\n",
        "print(top_reviewers)"
      ]
    },
    {
      "cell_type": "code",
      "execution_count": null,
      "metadata": {
        "id": "6YtnkGJv8you"
      },
      "outputs": [],
      "source": []
    },
    {
      "cell_type": "code",
      "execution_count": null,
      "metadata": {
        "colab": {
          "base_uri": "https://localhost:8080/"
        },
        "id": "2gumYmgk5uCa",
        "outputId": "71c3939c-5ac7-43c1-c189-9845c586915e"
      },
      "outputs": [
        {
          "data": {
            "text/plain": [
              "array([1, 2, 3, 4, 5])"
            ]
          },
          "execution_count": 12,
          "metadata": {},
          "output_type": "execute_result"
        }
      ],
      "source": [
        "df_train['stars'].unique()"
      ]
    },
    {
      "cell_type": "code",
      "execution_count": null,
      "metadata": {
        "colab": {
          "base_uri": "https://localhost:8080/"
        },
        "id": "kQ-WXsrO66Dz",
        "outputId": "2dd9bd95-7496-4802-bc65-8db8cb1da88a"
      },
      "outputs": [
        {
          "name": "stdout",
          "output_type": "stream",
          "text": [
            "Stars count:\n",
            "stars\n",
            "1    240000\n",
            "2    240000\n",
            "3    240000\n",
            "4    240000\n",
            "5    240000\n",
            "Name: count, dtype: int64\n"
          ]
        }
      ],
      "source": [
        "# Obtener el top 10 de reviewers con más registros\n",
        "stars_count = df_train['stars'].value_counts()\n",
        "\n",
        "# Mostrar los resultados\n",
        "print(\"Stars count:\")\n",
        "print(stars_count)"
      ]
    },
    {
      "cell_type": "markdown",
      "metadata": {
        "id": "XcTxpMyp_GGC"
      },
      "source": [
        "*    El dataset parece estar intencionalmente balanceado para tener cantidades iguales de reviews para cada nivel de calificación"
      ]
    },
    {
      "cell_type": "code",
      "execution_count": null,
      "metadata": {
        "colab": {
          "base_uri": "https://localhost:8080/"
        },
        "id": "YXAhSzZ1-2pQ",
        "outputId": "8a2e6f19-875d-4f89-dbe2-c8b9daee2307"
      },
      "outputs": [
        {
          "data": {
            "text/plain": [
              "array(['sports', 'home_improvement', 'drugstore', 'toy', 'baby_product',\n",
              "       'lawn_and_garden', 'electronics', 'book', 'home', 'wireless', 'pc',\n",
              "       'shoes', 'automotive', 'furniture', 'beauty',\n",
              "       'digital_ebook_purchase', 'kitchen', 'personal_care_appliances',\n",
              "       'office_product', 'apparel', 'video_games', 'pet_products',\n",
              "       'digital_video_download', 'musical_instruments', 'other', 'watch',\n",
              "       'luggage', 'jewelry', 'camera', 'industrial_supplies', 'grocery'],\n",
              "      dtype=object)"
            ]
          },
          "execution_count": 32,
          "metadata": {},
          "output_type": "execute_result"
        }
      ],
      "source": [
        "df_train['product_category'].unique()"
      ]
    },
    {
      "cell_type": "code",
      "execution_count": null,
      "metadata": {
        "colab": {
          "base_uri": "https://localhost:8080/"
        },
        "id": "h4vsKMI7E5ax",
        "outputId": "51992c9f-058f-4db5-c1f1-628642667987"
      },
      "outputs": [
        {
          "name": "stdout",
          "output_type": "stream",
          "text": [
            "product_category\n",
            "home                        126177\n",
            "wireless                    110538\n",
            "book                         90806\n",
            "sports                       65436\n",
            "apparel                      57607\n",
            "toy                          56951\n",
            "pc                           55573\n",
            "home_improvement             53484\n",
            "beauty                       52694\n",
            "kitchen                      51349\n",
            "drugstore                    47716\n",
            "electronics                  44820\n",
            "other                        42140\n",
            "automotive                   41564\n",
            "digital_ebook_purchase       34321\n",
            "shoes                        32440\n",
            "office_product               26458\n",
            "pet_products                 26296\n",
            "baby_product                 25098\n",
            "lawn_and_garden              24486\n",
            "grocery                      23718\n",
            "furniture                    19952\n",
            "camera                       14949\n",
            "luggage                      13803\n",
            "jewelry                      11783\n",
            "watch                        10365\n",
            "personal_care_appliances      9942\n",
            "video_games                   8250\n",
            "industrial_supplies           8209\n",
            "digital_video_download        6840\n",
            "musical_instruments           6235\n",
            "Name: count, dtype: int64\n"
          ]
        }
      ],
      "source": [
        "top_reviewers = df_train['product_category'].value_counts()\n",
        "print(top_reviewers)"
      ]
    },
    {
      "cell_type": "markdown",
      "metadata": {
        "id": "LgNmvAayFbz8"
      },
      "source": [
        "Para realizar la solución planteada no todos los datos son necesarios. En particular para el sistema de recomendación planteado se usará:\n",
        "*    reviewer_id\n",
        "*    product_id\n",
        "*    stars\n",
        "*    product_category"
      ]
    },
    {
      "cell_type": "markdown",
      "metadata": {
        "id": "59F-LG_6GIDd"
      },
      "source": [
        "Si bien todos los datos son valiosos, no todos son óptimos para el desarrollo del sistema. En particular, \"review_body\" puede aportar información valiosa en la preferencia de los usuarios, pero descomponer este tipo de dato es más complejos y escapa al alcance del proyecto. En su lugar se prefiere \"stars\" que cuantifica de forma muy simple la satisfacción del cliente para un producto."
      ]
    },
    {
      "cell_type": "code",
      "execution_count": null,
      "metadata": {
        "colab": {
          "base_uri": "https://localhost:8080/"
        },
        "id": "HHCk9VX5E-_p",
        "outputId": "2a2ba5f6-4e67-47da-ef1c-0e285aae46da"
      },
      "outputs": [
        {
          "name": "stdout",
          "output_type": "stream",
          "text": [
            "Archivos guardados con éxito:\n",
            " - df_train_filtered.csv\n",
            " - df_val_filtered.csv\n",
            " - df_test_filtered.csv\n"
          ]
        }
      ],
      "source": [
        "# Seleccionar solo las columnas necesarias\n",
        "columnas = ['reviewer_id', 'product_id', 'stars', 'product_category']\n",
        "\n",
        "# Filtrar y guardar cada DataFrame en un archivo CSV\n",
        "df_train[columnas].to_csv('df_train_filtered.csv', index=False)\n",
        "df_val[columnas].to_csv('df_val_filtered.csv', index=False)\n",
        "df_test[columnas].to_csv('df_test_filtered.csv', index=False)\n",
        "\n",
        "print(\"Archivos guardados con éxito:\")\n",
        "print(\" - df_train_filtered.csv\")\n",
        "print(\" - df_val_filtered.csv\")\n",
        "print(\" - df_test_filtered.csv\")"
      ]
    },
    {
      "cell_type": "code",
      "execution_count": 52,
      "metadata": {
        "colab": {
          "base_uri": "https://localhost:8080/"
        },
        "id": "gg8zy54FHNsu",
        "outputId": "6c2d55f6-6358-47cb-bfb2-95e4119e283d"
      },
      "outputs": [
        {
          "output_type": "stream",
          "name": "stderr",
          "text": [
            "<ipython-input-52-2bd0e1945217>:1: DeprecationWarning: DataFrameGroupBy.apply operated on the grouping columns. This behavior is deprecated, and in a future version of pandas the grouping columns will be excluded from the operation. Either pass `include_groups=False` to exclude the groupings or explicitly select the grouping columns after groupby to silence this warning.\n",
            "  dict_train = df_train.groupby('reviewer_id').apply(\n"
          ]
        }
      ],
      "source": [
        "dict_train = df_train.groupby('reviewer_id').apply(\n",
        "    lambda x: dict(zip(x['product_id'], x['stars']))\n",
        ").to_dict()"
      ]
    },
    {
      "cell_type": "code",
      "source": [
        "dict_train['reviewer_zh_0140130']"
      ],
      "metadata": {
        "colab": {
          "base_uri": "https://localhost:8080/"
        },
        "id": "A8T-KEhuWxQg",
        "outputId": "c9100a8d-c59d-488f-d8da-875bb5814bae"
      },
      "execution_count": 53,
      "outputs": [
        {
          "output_type": "execute_result",
          "data": {
            "text/plain": [
              "{'product_zh_0973064': 3,\n",
              " 'product_zh_0815853': 2,\n",
              " 'product_zh_0309363': 2,\n",
              " 'product_zh_0987157': 2,\n",
              " 'product_zh_0763163': 2,\n",
              " 'product_zh_0473345': 2,\n",
              " 'product_zh_0958982': 3,\n",
              " 'product_zh_0979448': 3,\n",
              " 'product_zh_0577624': 3,\n",
              " 'product_zh_0724903': 3,\n",
              " 'product_zh_0640900': 3}"
            ]
          },
          "metadata": {},
          "execution_count": 53
        }
      ]
    },
    {
      "cell_type": "code",
      "source": [
        "dict_train['reviewer_zh_0140130']['product_zh_0973064']"
      ],
      "metadata": {
        "colab": {
          "base_uri": "https://localhost:8080/"
        },
        "id": "FYjNbbQJRaPU",
        "outputId": "4d8f77f8-c0e2-4b39-e22a-0a1e2edf2777"
      },
      "execution_count": 54,
      "outputs": [
        {
          "output_type": "execute_result",
          "data": {
            "text/plain": [
              "3"
            ]
          },
          "metadata": {},
          "execution_count": 54
        }
      ]
    },
    {
      "cell_type": "code",
      "source": [
        "dict_test = df_test.groupby('reviewer_id').apply(\n",
        "    lambda x: dict(zip(x['product_id'], x['stars']))\n",
        ").to_dict()"
      ],
      "metadata": {
        "colab": {
          "base_uri": "https://localhost:8080/"
        },
        "id": "d9VYvHKRV9ZJ",
        "outputId": "fdebee6e-314d-43ec-cc58-7707994d3212"
      },
      "execution_count": 55,
      "outputs": [
        {
          "output_type": "stream",
          "name": "stderr",
          "text": [
            "<ipython-input-55-2d35c0318ad1>:1: DeprecationWarning: DataFrameGroupBy.apply operated on the grouping columns. This behavior is deprecated, and in a future version of pandas the grouping columns will be excluded from the operation. Either pass `include_groups=False` to exclude the groupings or explicitly select the grouping columns after groupby to silence this warning.\n",
            "  dict_test = df_test.groupby('reviewer_id').apply(\n"
          ]
        }
      ]
    },
    {
      "cell_type": "code",
      "source": [
        "dict_val = df_val.groupby('reviewer_id').apply(\n",
        "    lambda x: dict(zip(x['product_id'], x['stars']))\n",
        ").to_dict()"
      ],
      "metadata": {
        "colab": {
          "base_uri": "https://localhost:8080/"
        },
        "id": "KqVX9G3QV9zA",
        "outputId": "ef54d071-b518-4f23-a7e0-3319b55478ef"
      },
      "execution_count": 56,
      "outputs": [
        {
          "output_type": "stream",
          "name": "stderr",
          "text": [
            "<ipython-input-56-1427512f9503>:1: DeprecationWarning: DataFrameGroupBy.apply operated on the grouping columns. This behavior is deprecated, and in a future version of pandas the grouping columns will be excluded from the operation. Either pass `include_groups=False` to exclude the groupings or explicitly select the grouping columns after groupby to silence this warning.\n",
            "  dict_val = df_val.groupby('reviewer_id').apply(\n"
          ]
        }
      ]
    },
    {
      "cell_type": "code",
      "source": [
        "import json\n",
        "\n",
        "# Guardar el diccionario en un archivo JSON\n",
        "with open('dict_train.json', 'w', encoding='utf-8') as archivo:\n",
        "    json.dump(dict_train, archivo, ensure_ascii=False, indent=4)\n",
        "# Guardar el diccionario en un archivo JSON\n",
        "with open('dict_test.json', 'w', encoding='utf-8') as archivo:\n",
        "    json.dump(dict_test, archivo, ensure_ascii=False, indent=4)\n",
        "# Guardar el diccionario en un archivo JSON\n",
        "with open('dict_val.json', 'w', encoding='utf-8') as archivo:\n",
        "    json.dump(dict_val, archivo, ensure_ascii=False, indent=4)"
      ],
      "metadata": {
        "id": "sDSy2TJnV7_a"
      },
      "execution_count": 57,
      "outputs": []
    },
    {
      "cell_type": "code",
      "source": [
        "dict_product_category = df_train.groupby('product_id')['product_category'].first().to_dict()"
      ],
      "metadata": {
        "id": "7i5CgVUpRc2u"
      },
      "execution_count": 60,
      "outputs": []
    },
    {
      "cell_type": "code",
      "source": [
        "import json\n",
        "\n",
        "# Guardar el diccionario en un archivo JSON\n",
        "with open('dict_product_category.json', 'w', encoding='utf-8') as archivo:\n",
        "    json.dump(dict_product_category, archivo, ensure_ascii=False, indent=4)"
      ],
      "metadata": {
        "id": "nTJEleXfaHH-"
      },
      "execution_count": 62,
      "outputs": []
    },
    {
      "cell_type": "code",
      "source": [],
      "metadata": {
        "id": "8Cb5dzWlbqHG"
      },
      "execution_count": null,
      "outputs": []
    }
  ],
  "metadata": {
    "colab": {
      "provenance": []
    },
    "kernelspec": {
      "display_name": "Python 3",
      "name": "python3"
    },
    "language_info": {
      "name": "python"
    }
  },
  "nbformat": 4,
  "nbformat_minor": 0
}